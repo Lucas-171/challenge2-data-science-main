{
 "cells": [
  {
   "cell_type": "markdown",
   "id": "999c6bbd",
   "metadata": {},
   "source": [
    "## Análise de Dados e Modelo de Churn"
   ]
  },
  {
   "cell_type": "code",
   "execution_count": null,
   "id": "d1037a68",
   "metadata": {},
   "outputs": [],
   "source": [
    "\n",
    "import pandas as pd\n",
    "import numpy as np\n",
    "import matplotlib.pyplot as plt\n",
    "import seaborn as sns\n",
    "from sklearn.model_selection import train_test_split\n",
    "from sklearn.preprocessing import LabelEncoder\n",
    "from sklearn.ensemble import RandomForestClassifier\n",
    "from sklearn.metrics import classification_report, confusion_matrix\n",
    "\n",
    "# Carregar os dados\n",
    "df = pd.read_json('TelecomX_Data.json')\n",
    "\n",
    "# Conversão de variáveis categóricas para numéricas\n",
    "label_encoder = LabelEncoder()\n",
    "df['Churn'] = label_encoder.fit_transform(df['Churn'])\n",
    "df['customer.Partner'] = df['customer.Partner'].apply(lambda x: 1 if x == 'Yes' else 0)\n",
    "df['customer.Dependents'] = df['customer.Dependents'].apply(lambda x: 1 if x == 'Yes' else 0)\n",
    "df['phone.PhoneService'] = df['phone.PhoneService'].apply(lambda x: 1 if x == 'Yes' else 0)\n",
    "df['phone.MultipleLines'] = df['phone.MultipleLines'].apply(lambda x: 1 if x == 'Yes' else 0)\n",
    "df['internet.InternetService'] = df['internet.InternetService'].apply(lambda x: 1 if x == 'Fiber optic' else 0)\n",
    "df['internet.OnlineSecurity'] = df['internet.OnlineSecurity'].apply(lambda x: 1 if x == 'Yes' else 0)\n",
    "df['internet.OnlineBackup'] = df['internet.OnlineBackup'].apply(lambda x: 1 if x == 'Yes' else 0)\n",
    "df['internet.DeviceProtection'] = df['internet.DeviceProtection'].apply(lambda x: 1 if x == 'Yes' else 0)\n",
    "df['internet.TechSupport'] = df['internet.TechSupport'].apply(lambda x: 1 if x == 'Yes' else 0)\n",
    "df['internet.StreamingTV'] = df['internet.StreamingTV'].apply(lambda x: 1 if x == 'Yes' else 0)\n",
    "df['internet.StreamingMovies'] = df['internet.StreamingMovies'].apply(lambda x: 1 if x == 'Yes' else 0)\n",
    "df['account.Contract'] = df['account.Contract'].apply(lambda x: 1 if x == 'Month-to-month' else 0)\n",
    "df['account.PaperlessBilling'] = df['account.PaperlessBilling'].apply(lambda x: 1 if x == 'Yes' else 0)\n",
    "df['account.PaymentMethod'] = df['account.PaymentMethod'].apply(lambda x: 1 if x == 'Electronic check' else 0)\n",
    "\n",
    "# Definindo as variáveis independentes e dependentes\n",
    "X = df.drop('Churn', axis=1)\n",
    "y = df['Churn']\n",
    "\n",
    "# Divisão dos dados em treino e teste\n",
    "X_train, X_test, y_train, y_test = train_test_split(X, y, test_size=0.2, random_state=42)\n",
    "\n",
    "# Treinando o modelo Random Forest\n",
    "model = RandomForestClassifier(n_estimators=100, random_state=42)\n",
    "model.fit(X_train, y_train)\n",
    "\n",
    "# Previsões\n",
    "y_pred = model.predict(X_test)\n",
    "\n",
    "# Resultados\n",
    "classification_rep = classification_report(y_test, y_pred)\n",
    "conf_matrix = confusion_matrix(y_test, y_pred)\n",
    "\n",
    "classification_rep, conf_matrix\n",
    "    "
   ]
  },
  {
   "cell_type": "markdown",
   "id": "659ff128",
   "metadata": {},
   "source": [
    "### Resultados do Modelo de Random Forest"
   ]
  },
  {
   "cell_type": "code",
   "execution_count": null,
   "id": "a293c4a7",
   "metadata": {},
   "outputs": [],
   "source": [
    "\n",
    "classification_rep\n",
    "    "
   ]
  },
  {
   "cell_type": "markdown",
   "id": "899f0c25",
   "metadata": {},
   "source": [
    "### Matriz de Confusão"
   ]
  },
  {
   "cell_type": "code",
   "execution_count": null,
   "id": "72b29b0c",
   "metadata": {},
   "outputs": [],
   "source": [
    "\n",
    "conf_matrix\n",
    "    "
   ]
  },
  {
   "cell_type": "markdown",
   "id": "55e44f6d",
   "metadata": {},
   "source": [
    "\n",
    "## Conclusões\n",
    "\n",
    "- O modelo de Random Forest foi capaz de prever o churn dos clientes com razoável precisão, embora haja espaço para melhorias, especialmente para a classe de não cancelamento.\n",
    "- Sugestões para melhorar a acurácia incluem o uso de técnicas de balanceamento de dados ou outro tipo de modelo.\n",
    "    "
   ]
  }
 ],
 "metadata": {},
 "nbformat": 4,
 "nbformat_minor": 5
}
